{
 "cells": [
  {
   "cell_type": "code",
   "execution_count": 1,
   "id": "cd8b077a-ee06-43f2-8d8e-39ef92fe05f9",
   "metadata": {},
   "outputs": [],
   "source": [
    "import cv2 \n",
    "import time\n",
    "cap = cv2.VideoCapture('yassir.mp4')\n",
    "if cap.isOpened == False :\n",
    "    print ( ' Error file not found or Wrong Codes ' ) \n",
    "while cap.isOpened():\n",
    "    ret , frame = cap.read()\n",
    "    if ret == True :\n",
    "        time.sleep(1/20)\n",
    "        cv2.imshow('frame' , frame)\n",
    "        if cv2.waitKey(10) & 0xFF == 27 :\n",
    "            break\n",
    "    else:\n",
    "        break      \n",
    "cap.release()\n",
    "cv2.destroyAllWindows()"
   ]
  },
  {
   "cell_type": "code",
   "execution_count": null,
   "id": "2bcb4048-6eb9-4611-b244-35abeef4b38e",
   "metadata": {},
   "outputs": [],
   "source": []
  }
 ],
 "metadata": {
  "kernelspec": {
   "display_name": "Python 3",
   "language": "python",
   "name": "python3"
  },
  "language_info": {
   "codemirror_mode": {
    "name": "ipython",
    "version": 3
   },
   "file_extension": ".py",
   "mimetype": "text/x-python",
   "name": "python",
   "nbconvert_exporter": "python",
   "pygments_lexer": "ipython3",
   "version": "3.8.10"
  }
 },
 "nbformat": 4,
 "nbformat_minor": 5
}
